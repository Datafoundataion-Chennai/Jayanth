{
 "cells": [
  {
   "cell_type": "code",
   "execution_count": 3,
   "id": "72e7080c-ee73-4500-a89d-97c6638d05bc",
   "metadata": {},
   "outputs": [],
   "source": [
    "import numpy as np\n",
    "stock_prices=np.random.randint(100,500,(30,5))\n"
   ]
  },
  {
   "cell_type": "code",
   "execution_count": 5,
   "id": "112b7112-cd39-4613-a4c8-c4806becece4",
   "metadata": {},
   "outputs": [
    {
     "name": "stdout",
     "output_type": "stream",
     "text": [
      "[312.2        314.4        294.5        350.76666667 317.46666667]\n",
      "Highest price recorded : [495] at Day [2] , company [2]\n"
     ]
    }
   ],
   "source": [
    "print(np.average(stock_prices,axis=0))\n",
    "max=np.max(stock_prices)\n",
    "x,y=np.where(stock_prices==max)\n",
    "high=stock_prices[x,y]\n",
    "print(f\"Highest price recorded : {high} at Day {x} , company {y}\")\n"
   ]
  },
  {
   "cell_type": "code",
   "execution_count": 7,
   "id": "9bb0dcb2-5f0a-4427-a3ae-a90fae4c9506",
   "metadata": {},
   "outputs": [
    {
     "name": "stdout",
     "output_type": "stream",
     "text": [
      "Day 0 : [103]\n",
      "Day 1 : [144]\n",
      "Day 2 : [115]\n",
      "Day 3 : [196]\n",
      "Day 4 : [102]\n",
      "Day 5 : [129]\n",
      "Day 6 : [123]\n",
      "Day 8 : [157]\n",
      "Day 9 : [193, 181]\n",
      "Day 10 : [175, 100, 148]\n",
      "Day 11 : [102]\n",
      "Day 12 : [187]\n",
      "Day 13 : [180]\n",
      "Day 15 : [128]\n",
      "Day 16 : [193, 184, 197]\n",
      "Day 17 : [161]\n",
      "Day 18 : [135]\n",
      "Day 20 : [136]\n",
      "Day 22 : [109]\n",
      "Day 23 : [169, 158]\n",
      "Day 24 : [153, 145]\n",
      "Day 25 : [143]\n"
     ]
    }
   ],
   "source": [
    "\n",
    "for row in range(len(stock_prices)):\n",
    "    lst=[]\n",
    "    for col in range(len(stock_prices[row])):\n",
    "        if (stock_prices[row][col]<200):\n",
    "            lst.append(stock_prices[row][col])\n",
    "\n",
    "    if(len(lst)!=0):\n",
    "        print(f\"Day {row} : {lst}\")\n",
    "            "
   ]
  },
  {
   "cell_type": "code",
   "execution_count": 9,
   "id": "a0f7acb3-9e81-49b7-89d3-7e52a7e95598",
   "metadata": {},
   "outputs": [
    {
     "name": "stdout",
     "output_type": "stream",
     "text": [
      "[[29 13 34]\n",
      " [ 4 10 11]\n",
      " [43  9 48]\n",
      " [13 33 26]\n",
      " [ 9 26 16]\n",
      " [43  6 21]]\n",
      "Total resources needed (tons) : Oxygen 141 Water 97 Food 156\n"
     ]
    }
   ],
   "source": [
    "#Problem 2\n",
    "\n",
    "arr=np.random.randint(1,50,(6,3))\n",
    "print(arr)\n",
    "sum=np.sum(arr,axis=0)\n",
    "print(f\"Total resources needed (tons) : Oxygen {sum[0]} Water {sum[1]} Food {sum[2]}\")"
   ]
  },
  {
   "cell_type": "code",
   "execution_count": 11,
   "id": "9f6a4f14-f2bd-42be-bc12-ab3a29ddb18f",
   "metadata": {},
   "outputs": [
    {
     "name": "stdout",
     "output_type": "stream",
     "text": [
      "Highest consumption in a month : Food ([48] tons in month 2)\n"
     ]
    }
   ],
   "source": [
    "import numpy as np\n",
    "max=np.max(arr)\n",
    "x,y=np.where(arr==max)\n",
    "d={0:\"Oxygen\",1:\"Water\",2:\"Food\"}\n",
    "y=int(y[0])\n",
    "print(f\"Highest consumption in a month : {d[y]} ({arr[x,y]} tons in month {y})\")"
   ]
  },
  {
   "cell_type": "code",
   "execution_count": 13,
   "id": "f68cb53e-4899-43c8-adc7-1df8663a35aa",
   "metadata": {},
   "outputs": [
    {
     "name": "stdout",
     "output_type": "stream",
     "text": [
      "Standard deviation of consumption: Oxygen: 15.8, Water: 9.9, Food: 12.2\n"
     ]
    }
   ],
   "source": [
    "sdev=np.std(arr,axis=0)\n",
    "print(f\"Standard deviation of consumption: Oxygen: {sdev[0]:.1f}, Water: {sdev[1]:.1f}, Food: {sdev[2]:.1f}\")"
   ]
  },
  {
   "cell_type": "code",
   "execution_count": 15,
   "id": "73df1328-c094-45a6-a51f-fc8a33582eb6",
   "metadata": {},
   "outputs": [
    {
     "name": "stdout",
     "output_type": "stream",
     "text": [
      "[[29  4 43 13  9 43]\n",
      " [13 10  9 33 26  6]\n",
      " [34 11 48 26 16 21]]\n"
     ]
    }
   ],
   "source": [
    "transposed_matrix=arr.transpose()\n",
    "print(transposed_matrix)"
   ]
  },
  {
   "cell_type": "code",
   "execution_count": 17,
   "id": "4cfb842a-a13c-4c5c-9340-23e92cee3cd7",
   "metadata": {},
   "outputs": [
    {
     "name": "stdout",
     "output_type": "stream",
     "text": [
      "Average points per game:  [22.8 22.  32.2 18.1 30.1]\n"
     ]
    }
   ],
   "source": [
    "#problem3\n",
    "points = np.array([\n",
    "    [10, 25, 30, 22, 12, 18, 26, 32, 24, 29],\n",
    "    [20, 15, 12, 28, 24, 26, 30, 18, 22, 25],\n",
    "    [35, 30, 32, 40, 28, 34, 29, 31, 26, 37],\n",
    "    [12, 18, 20, 15, 22, 14, 19, 21, 23, 17],\n",
    "    [28, 26, 27, 25, 30, 29, 35, 32, 31, 38]\n",
    "])\n",
    "\n",
    "print(\"Average points per game: \",np.average(points,axis=1))"
   ]
  },
  {
   "cell_type": "code",
   "execution_count": 24,
   "id": "55f3679d-767f-4eff-adf1-f82c7bb2ded3",
   "metadata": {},
   "outputs": [
    {
     "name": "stdout",
     "output_type": "stream",
     "text": [
      "Best-performing player: Player [2] (Total: 322 points)\n",
      "Worst-performing player: Player [3] (Total: 181 points)\n"
     ]
    }
   ],
   "source": [
    "total_points=np.sum(points,axis=1)\n",
    "#Best-performing player: Player 3 (Total: 322 points)\n",
    "#Worst-performing player: Player 4 (Total: 181 points)\n",
    "max=np.max(total_points)\n",
    "min=np.min(total_points)\n",
    "x=np.where(total_points==min)\n",
    "y=np.where(total_points==max)\n",
    "new_max=y[0]\n",
    "new_min=x[0]\n",
    "print(f\"Best-performing player: Player {new_max} (Total: {max} points)\")\n",
    "print(f\"Worst-performing player: Player {new_min} (Total: {min} points)\")"
   ]
  },
  {
   "cell_type": "code",
   "execution_count": 52,
   "id": "63abace1-9210-4efb-be75-8da4ea64136d",
   "metadata": {},
   "outputs": [
    {
     "name": "stdout",
     "output_type": "stream",
     "text": [
      "[32 35 32 40 34 31 37 35 32 31 38]\n"
     ]
    }
   ],
   "source": [
    "mask=points>30\n",
    "print(points[mask])\n"
   ]
  },
  {
   "cell_type": "code",
   "execution_count": 54,
   "id": "1986228e-6a48-4bf0-bcb4-951b5d69c5e9",
   "metadata": {
    "scrolled": true
   },
   "outputs": [
    {
     "ename": "IndexError",
     "evalue": "too many indices for array: array is 1-dimensional, but 2 were indexed",
     "output_type": "error",
     "traceback": [
      "\u001b[1;31m---------------------------------------------------------------------------\u001b[0m",
      "\u001b[1;31mIndexError\u001b[0m                                Traceback (most recent call last)",
      "Cell \u001b[1;32mIn[54], line 2\u001b[0m\n\u001b[0;32m      1\u001b[0m \u001b[38;5;28;01mfor\u001b[39;00m i \u001b[38;5;129;01min\u001b[39;00m points:\n\u001b[1;32m----> 2\u001b[0m     \u001b[38;5;28mprint\u001b[39m(i[mask])\n",
      "\u001b[1;31mIndexError\u001b[0m: too many indices for array: array is 1-dimensional, but 2 were indexed"
     ]
    }
   ],
   "source": [
    "for i in points:\n",
    "    print(i[mask])"
   ]
  },
  {
   "cell_type": "code",
   "execution_count": null,
   "id": "bd501707-0e32-4283-b3be-c1943931b83d",
   "metadata": {},
   "outputs": [],
   "source": []
  }
 ],
 "metadata": {
  "kernelspec": {
   "display_name": "Python [conda env:base] *",
   "language": "python",
   "name": "conda-base-py"
  },
  "language_info": {
   "codemirror_mode": {
    "name": "ipython",
    "version": 3
   },
   "file_extension": ".py",
   "mimetype": "text/x-python",
   "name": "python",
   "nbconvert_exporter": "python",
   "pygments_lexer": "ipython3",
   "version": "3.12.7"
  }
 },
 "nbformat": 4,
 "nbformat_minor": 5
}
