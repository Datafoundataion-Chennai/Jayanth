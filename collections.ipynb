{
 "cells": [
  {
   "cell_type": "code",
   "execution_count": 33,
   "id": "2cf86375-973c-4d21-ab78-817f5d249f79",
   "metadata": {},
   "outputs": [
    {
     "name": "stdin",
     "output_type": "stream",
     "text": [
      "enter input by comma seperated bread,5\n",
      "enter input by comma seperated milk,2\n",
      "enter input by comma seperated bread,3\n",
      "enter input by comma seperated cigarattes,4\n",
      "enter input by comma seperated milk,1\n",
      "enter input by comma seperated end\n"
     ]
    },
    {
     "name": "stdout",
     "output_type": "stream",
     "text": [
      "OrderedDict({'bread': 8, 'milk': 3, 'cigarattes': 4})\n"
     ]
    }
   ],
   "source": [
    "from collections import OrderedDict\n",
    "from collections import Counter\n",
    "#requests=[]\n",
    "od=OrderedDict()\n",
    "while True:\n",
    "    data=input(\"enter input by comma seperated\")\n",
    "    if data!=\"end\":\n",
    "        x,y=data.split(\",\")\n",
    "        od[x]=od.get(x,0)+int(y)\n",
    "    else:\n",
    "        break\n",
    "\n",
    "print(od)\n",
    "\n",
    "\n",
    "    \n",
    "\n",
    "\n",
    "    "
   ]
  },
  {
   "cell_type": "code",
   "execution_count": 5,
   "id": "795c35ea-ac22-4669-a9c6-5c15b86c8a9d",
   "metadata": {},
   "outputs": [
    {
     "name": "stdout",
     "output_type": "stream",
     "text": [
      "OrderedDict({'bread': 3, 'milk': 1, 'cigarettes': 4})\n"
     ]
    }
   ],
   "source": [
    "od=OrderedDict([\n",
    "    (\"bread\", 5),\n",
    "    (\"milk\", 2),\n",
    "    (\"bread\", 3),\n",
    "    (\"cigarettes\", 4),\n",
    "    (\"milk\", 1)\n",
    "]\n",
    ")\n",
    "print(od)\n"
   ]
  },
  {
   "cell_type": "code",
   "execution_count": 52,
   "id": "22cb670f-16e2-4adc-9970-1cab89e1db62",
   "metadata": {},
   "outputs": [
    {
     "name": "stdout",
     "output_type": "stream",
     "text": [
      "['attack', 'retreat', 'tanks', 'UNKNOWN']\n"
     ]
    }
   ],
   "source": [
    "codewords = [\"attack\", \"retreat\", \"sniper\", \"danger\", \"tanks\", \"enemy\"]\n",
    "intercepted = [\"ckatta\", \"ratreet\", \"ksnat\", \"shadow\"]\n",
    "result=[]\n",
    "for i in intercepted:\n",
    "    flag=1\n",
    "    for j in codewords:\n",
    "        if(Counter(i)==Counter(j)):\n",
    "            result.append(j)\n",
    "            flag=0\n",
    "    if(flag):\n",
    "        result.append(\"UNKNOWN\")\n",
    "    \n",
    "print(result)"
   ]
  },
  {
   "cell_type": "code",
   "execution_count": 64,
   "id": "3a156af0-b6b2-462a-a783-7a0b08835321",
   "metadata": {},
   "outputs": [
    {
     "name": "stdout",
     "output_type": "stream",
     "text": [
      "crew(name='Commander_Vega', job='Pilot', experience=9)\n"
     ]
    }
   ],
   "source": [
    "from collections import namedtuple\n",
    "crew=namedtuple('crew',['name','job','experience'])\n",
    "while True:\n",
    "    name,job,exp=input(\"Enter name job experience\").split(\" \")\n",
    "    \n",
    "c1=crew(\"Commander Vega\",\"Pilot\",9)\n",
    "c2=crew(\"Dr. Nova\", \"Scientist\", 8)\n",
    "c3=crew(\"Lt. Orion\", \"Engineer\", 7)\n",
    "print(c1)"
   ]
  },
  {
   "cell_type": "code",
   "execution_count": null,
   "id": "72bbd852-2b1b-4592-a062-fa4484411af7",
   "metadata": {},
   "outputs": [],
   "source": []
  }
 ],
 "metadata": {
  "kernelspec": {
   "display_name": "Python [conda env:base] *",
   "language": "python",
   "name": "conda-base-py"
  },
  "language_info": {
   "codemirror_mode": {
    "name": "ipython",
    "version": 3
   },
   "file_extension": ".py",
   "mimetype": "text/x-python",
   "name": "python",
   "nbconvert_exporter": "python",
   "pygments_lexer": "ipython3",
   "version": "3.12.7"
  }
 },
 "nbformat": 4,
 "nbformat_minor": 5
}
