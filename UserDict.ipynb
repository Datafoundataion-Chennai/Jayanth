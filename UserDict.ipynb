{
 "cells": [
  {
   "cell_type": "code",
   "execution_count": 41,
   "id": "447bd494-280b-4fae-a90b-c376985bc7bf",
   "metadata": {},
   "outputs": [
    {
     "name": "stdout",
     "output_type": "stream",
     "text": [
      "True\n",
      "Deducted 1 unit of tea leaves from Branch_A.\n",
      "Added 15 units of sugar to Branch_C.\n",
      "Transferred 3 units of milk from Branch_B to Branch_A.\n"
     ]
    }
   ],
   "source": [
    "from collections import ChainMap\n",
    "\n",
    "class ChaiInventory:\n",
    "    def __init__(self, branches):\n",
    "        self.branches = branches\n",
    "        self.inventory = ChainMap(*branches.values())  # Chain all branches\n",
    "        \n",
    "\n",
    "    def check_availability(self, item):\n",
    "        return item in self.inventory\n",
    "\n",
    "    def deduct_stock(self, item):\n",
    "        for branch_name, branch_inventory in self.branches.items():\n",
    "            if item in branch_inventory and branch_inventory[item] > 0:\n",
    "                branch_inventory[item] -= 1\n",
    "                print(f\"Deducted 1 unit of {item} from {branch_name}.\")\n",
    "                return\n",
    "        print(f\"{item} is out of stock in all branches.\")\n",
    "\n",
    "    def refill_stock(self, branch, item, quantity):\n",
    "        if branch in self.branches:\n",
    "            self.branches[branch][item] = self.branches[branch].get(item, 0) + quantity\n",
    "            print(f\"Added {quantity} units of {item} to {branch}.\")\n",
    "        else:\n",
    "            print(f\"Branch {branch} does not exist.\")\n",
    "\n",
    "\n",
    "    def transfer_stock(self, from_branch, to_branch, item, quantity):\n",
    "        if self.branches[from_branch][item] < quantity:\n",
    "            raise ValueError(f\"Not enough {item} in {from_branch} to transfer.\")\n",
    "\n",
    "        self.branches[from_branch][item] -= quantity\n",
    "        self.branches[to_branch][item] = self.branches[to_branch].get(item, 0) + quantity\n",
    "\n",
    "        print(f\"Transferred {quantity} units of {item} from {from_branch} to {to_branch}.\")\n",
    "\n",
    "    def add_stock_with_expiry(branch_to, item, quantity, exp_date)\n",
    "\n",
    "    \n",
    "\n",
    "chai_shop = ChaiInventory({\n",
    "    \"Branch_A\": {\"tea leaves\": 5, \"sugar\": 10},\n",
    "    \"Branch_B\": {\"milk\": 8, \"masala\": 6},\n",
    "    \"Branch_C\": {\"tea leaves\": 3, \"milk\": 2}\n",
    "})\n",
    "\n",
    "print(chai_shop.check_availability(\"milk\"))  \n",
    "chai_shop.deduct_stock(\"tea leaves\") \n",
    "chai_shop.refill_stock(\"Branch_C\", \"sugar\", 15)\n",
    "chai_shop.transfer_stock(\"Branch_B\", \"Branch_A\", \"milk\", 3)\n"
   ]
  },
  {
   "cell_type": "code",
   "execution_count": 49,
   "id": "76a14d29-2a61-4cc7-a711-b90041abf6fc",
   "metadata": {},
   "outputs": [
    {
     "name": "stdout",
     "output_type": "stream",
     "text": [
      "{'balance': 70}\n",
      "70\n"
     ]
    }
   ],
   "source": [
    "from collections import UserDict\n",
    "\n",
    "class MetroCard(UserDict):\n",
    "    def __init__(self, balance=0):\n",
    "        super().__init__()\n",
    "        self.data[\"balance\"] = balance\n",
    "\n",
    "    def deduct_fare(self, amount):\n",
    "        if self.data[\"balance\"] >= amount:\n",
    "            self.data[\"balance\"] -= amount\n",
    "            self.transactions[]\n",
    "        else:\n",
    "            print(\"Insufficient balance!\")\n",
    "\n",
    "card = MetroCard(100)\n",
    "card.deduct_fare(30)\n",
    "print(card[\"balance\"])"
   ]
  },
  {
   "cell_type": "code",
   "execution_count": null,
   "id": "7f1e0c60-de6e-4a79-bacd-8f64ec7225f6",
   "metadata": {},
   "outputs": [],
   "source": []
  }
 ],
 "metadata": {
  "kernelspec": {
   "display_name": "Python [conda env:base] *",
   "language": "python",
   "name": "conda-base-py"
  },
  "language_info": {
   "codemirror_mode": {
    "name": "ipython",
    "version": 3
   },
   "file_extension": ".py",
   "mimetype": "text/x-python",
   "name": "python",
   "nbconvert_exporter": "python",
   "pygments_lexer": "ipython3",
   "version": "3.12.7"
  }
 },
 "nbformat": 4,
 "nbformat_minor": 5
}
