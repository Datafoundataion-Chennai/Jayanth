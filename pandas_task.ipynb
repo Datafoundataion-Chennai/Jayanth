{
 "cells": [
  {
   "cell_type": "code",
   "execution_count": 53,
   "id": "6e089dcb-5135-4600-8266-ac5be2ee724b",
   "metadata": {},
   "outputs": [
    {
     "name": "stdout",
     "output_type": "stream",
     "text": [
      "0     2\n",
      "1     7\n",
      "2     5\n",
      "3    15\n",
      "4    10\n",
      "5    20\n",
      "6     3\n",
      "7    12\n",
      "Name: Experience, dtype: int64\n"
     ]
    }
   ],
   "source": [
    "import pandas as pd\n",
    "\n",
    "data = {\n",
    "    'Employee': ['Alice', 'Bob', 'Charlie', 'David', 'Emma', 'Frank', 'Grace', 'Hannah'],\n",
    "    'Department': ['HR', 'IT', 'IT', 'HR', 'Finance', 'Finance', 'IT', 'HR'],\n",
    "    'Age': [25, 32, 29, 41, 37, 45, 26, 38],\n",
    "    'Salary': [50000, 70000, 65000, 80000, 75000, 90000, 62000, 85000],\n",
    "    'Experience': [2, 7, 5, 15, 10, 20, 3, 12]\n",
    "}\n",
    "\n",
    "df = pd.DataFrame(data)\n",
    "print(df['Experience'])"
   ]
  },
  {
   "cell_type": "code",
   "execution_count": 13,
   "id": "a40e20b0-aec7-4d54-b6be-20c002137aed",
   "metadata": {},
   "outputs": [
    {
     "name": "stdout",
     "output_type": "stream",
     "text": [
      "Department\n",
      "Finance    82500.000000\n",
      "HR         71666.666667\n",
      "IT         65666.666667\n",
      "Name: Salary, dtype: float64\n"
     ]
    }
   ],
   "source": [
    "average=df.groupby('Department')['Salary'].mean()\n",
    "print(average)"
   ]
  },
  {
   "cell_type": "code",
   "execution_count": 21,
   "id": "293e801c-b2aa-41fe-aa65-a1d03816554f",
   "metadata": {},
   "outputs": [
    {
     "name": "stdout",
     "output_type": "stream",
     "text": [
      "Department\n",
      "Finance    90000\n",
      "HR         85000\n",
      "IT         70000\n",
      "Name: Salary, dtype: int64\n"
     ]
    }
   ],
   "source": [
    "highest=df.groupby('Department')['Salary'].max()\n",
    "print(highest)"
   ]
  },
  {
   "cell_type": "code",
   "execution_count": 47,
   "id": "15a928e1-2a9a-48c9-9f25-9837e34deb4e",
   "metadata": {},
   "outputs": [
    {
     "name": "stdout",
     "output_type": "stream",
     "text": [
      "  Employee Department  Age  Salary  Experience\n",
      "1      Bob         IT   32   70000           7\n",
      "3    David         HR   41   80000          15\n",
      "4     Emma    Finance   37   75000          10\n",
      "5    Frank    Finance   45   90000          20\n",
      "7   Hannah         HR   38   85000          12\n"
     ]
    }
   ],
   "source": [
    "count=df[(df['Salary']>65000) & (df['Experience']>5)]\n",
    "print(count)"
   ]
  }
 ],
 "metadata": {
  "kernelspec": {
   "display_name": "Python [conda env:base] *",
   "language": "python",
   "name": "conda-base-py"
  },
  "language_info": {
   "codemirror_mode": {
    "name": "ipython",
    "version": 3
   },
   "file_extension": ".py",
   "mimetype": "text/x-python",
   "name": "python",
   "nbconvert_exporter": "python",
   "pygments_lexer": "ipython3",
   "version": "3.12.7"
  }
 },
 "nbformat": 4,
 "nbformat_minor": 5
}
